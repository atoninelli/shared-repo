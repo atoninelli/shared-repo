{
 "cells": [
  {
   "cell_type": "markdown",
   "id": "8ad1d45b-c9e8-481a-96f1-e211446fa896",
   "metadata": {},
   "source": [
    "# Data Science Tools and Ecosystem"
   ]
  },
  {
   "cell_type": "markdown",
   "id": "ed8201b6-3c88-4537-b11a-4f755f70e6bd",
   "metadata": {},
   "source": [
    "In this notebook, Data Science Tools and Ecosystem are summarized."
   ]
  },
  {
   "cell_type": "markdown",
   "id": "3576226c-0aff-4fe2-bf5d-ae46f54fbe8c",
   "metadata": {},
   "source": [
    "**Objectives:**\n",
    "- List popular languages for Data Science\n",
    "- List libraries used in Data Science\n",
    "- List popular Data Science IDE Tools\n",
    "- Exemplify some arithmetic calculations in Python"
   ]
  },
  {
   "cell_type": "markdown",
   "id": "be1997d3-f05f-4f10-8645-e79fa51a9810",
   "metadata": {},
   "source": [
    "1. Python\n",
    "2. R\n",
    "3. Scala\n",
    "4. Julia"
   ]
  },
  {
   "cell_type": "markdown",
   "id": "0123ae7f-2993-4adf-b6a8-55ee0d383896",
   "metadata": {},
   "source": [
    "1. Pandas\n",
    "2. NumPy\n",
    "3. Keras\n",
    "4. ggplot2"
   ]
  },
  {
   "cell_type": "markdown",
   "id": "7f749376-df23-4c4b-8cd9-5655f9bd9939",
   "metadata": {},
   "source": [
    "| Data Science Tools |\n",
    "| --- | \n",
    "| Jupiter Notebooks | \n",
    "| Apache Zeppelin |\n",
    "| RStudio |"
   ]
  },
  {
   "cell_type": "markdown",
   "id": "f795258a-ef90-4b6a-8714-62487837a386",
   "metadata": {},
   "source": [
    "### Below are a few examples of evaluating arithmetic expressions in Python"
   ]
  },
  {
   "cell_type": "code",
   "execution_count": 3,
   "id": "e4c0fe5c-ad1c-4e57-b698-cfb92909f8a6",
   "metadata": {
    "tags": []
   },
   "outputs": [
    {
     "data": {
      "text/plain": [
       "17"
      ]
     },
     "execution_count": 3,
     "metadata": {},
     "output_type": "execute_result"
    }
   ],
   "source": [
    "# his a simple arithmetic expression to mutiply then add integers\n",
    "(3*4)+5"
   ]
  },
  {
   "cell_type": "code",
   "execution_count": 1,
   "id": "f0eaf718-d874-4f3e-a1cb-78a7f7dd18f3",
   "metadata": {
    "tags": []
   },
   "outputs": [
    {
     "data": {
      "text/plain": [
       "3.3333333333333335"
      ]
     },
     "execution_count": 1,
     "metadata": {},
     "output_type": "execute_result"
    }
   ],
   "source": [
    "# This will convert 200 minutes to hours by diving by 60\n",
    "200/60"
   ]
  },
  {
   "cell_type": "markdown",
   "id": "72e4e575-ae58-41fb-8230-696ad569dd65",
   "metadata": {},
   "source": [
    "## Author ##\n",
    "Alessandro Toninelli"
   ]
  },
  {
   "cell_type": "code",
   "execution_count": null,
   "id": "6a983aa1-e510-40b2-ba0c-e3b896915c4f",
   "metadata": {},
   "outputs": [],
   "source": []
  }
 ],
 "metadata": {
  "kernelspec": {
   "display_name": "Python",
   "language": "python",
   "name": "conda-env-python-py"
  },
  "language_info": {
   "codemirror_mode": {
    "name": "ipython",
    "version": 3
   },
   "file_extension": ".py",
   "mimetype": "text/x-python",
   "name": "python",
   "nbconvert_exporter": "python",
   "pygments_lexer": "ipython3",
   "version": "3.7.12"
  }
 },
 "nbformat": 4,
 "nbformat_minor": 5
}
